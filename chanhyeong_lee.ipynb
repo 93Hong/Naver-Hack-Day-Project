{
 "cells": [
  {
   "cell_type": "code",
   "execution_count": 1,
   "metadata": {},
   "outputs": [
    {
     "name": "stdout",
     "output_type": "stream",
     "text": [
      "61113\n"
     ]
    }
   ],
   "source": [
    "\"\"\"\n",
    "환경: 파이썬 3.6\n",
    "설치: pip install -r requirements.txt\n",
    "\"\"\"\n",
    "\n",
    "import pandas as pd\n",
    "\n",
    "data_df = pd.read_csv('shopping-cacls.data.tsv', sep='\\t',\n",
    "                      names=['seq', 'category', 'brand', 'manufacturer', 'price', 'product_url', 'name'])\n",
    "data_df = data_df.fillna('')\n",
    "print(len(data_df))"
   ]
  },
  {
   "cell_type": "code",
   "execution_count": 2,
   "metadata": {
    "collapsed": true
   },
   "outputs": [],
   "source": [
    "import numpy as np"
   ]
  },
  {
   "cell_type": "code",
   "execution_count": 3,
   "metadata": {},
   "outputs": [
    {
     "name": "stdout",
     "output_type": "stream",
     "text": [
      "train data length: 54964\n",
      "test data length: 6149\n"
     ]
    }
   ],
   "source": [
    "# 데이터 로드 및 학습, 테스트 데이터 분리\n",
    "msk = np.random.rand(len(data_df)) < 0.9\n",
    "train_df = data_df[msk]\n",
    "test_df = data_df[~msk]\n",
    "\n",
    "print(f'train data length: {len(train_df)}')\n",
    "print(f'test data length: {len(test_df)}')"
   ]
  },
  {
   "cell_type": "code",
   "execution_count": 101,
   "metadata": {},
   "outputs": [
    {
     "name": "stdout",
     "output_type": "stream",
     "text": [
      "['[해외배송]B002KQ5T9Y/Magnum Mens Elite Spider 8.0', 'Palladium  Palladium Womens Pampa Hi Canvas Boot', '[fashionplus][미소페]남성 워커 털부츠 021436009 굽1.5cm 흑색', '[패션플러스][소다] 소다 남성 데져트 캐주얼부츠 ASC315 KA20밤색/NA33진베이지 (3CM)', '[정품]Justin Boots Men’s 3001 Farm & Ranch 10 Boot Roper Toe Rubber Outsole', 'Smith Ski und Snowboardhelm Premise Bluetooth schwarz glnzend', 'Di Coletti over  di colletti side Gore boots', 'Church  CHURCH   S KETSBY KETSBY BK (BLACK / UK 7', '[PALLADIUM] Pallabrouse BGY EXTX,73690-967/FLPL6S1U26/팔라디움 팔라부르즈', '필리오 버클코디 앵글부츠 정장구두(브라운) 옥스퍼드 남성화 신사화 키높이구두 드레스슈즈']\n",
      "['매그넘', '팔라디움', '미소페', '소다', '', '스미스옵틱스', '', '', '팔라디움', '']\n",
      "['[해외배송]B002KQ5T9Y/Magnum Mens Elite Spider 8.0', 'Palladium  Palladium Womens Pampa Hi Canvas Boot', '[fashionplus][미소페]남성 워커 털부츠 021436009 굽1.5cm 흑색', '[패션플러스][소다] 소다 남성 데져트 캐주얼부츠 ASC315 KA20밤색/NA33진베이지 (3CM)', '[정품]Justin Boots Men’s 3001 Farm & Ranch 10 Boot Roper Toe Rubber Outsole', 'Smith Ski und Snowboardhelm Premise Bluetooth schwarz glnzend', 'Di Coletti over  di colletti side Gore boots', 'Church  CHURCH   S KETSBY KETSBY BK (BLACK / UK 7', '[PALLADIUM] Pallabrouse BGY EXTX,73690-967/FLPL6S1U26/팔라디움 팔라부르즈', '필리오 버클코디 앵글부츠 정장구두(브라운) 옥스퍼드 남성화 신사화 키높이구두 드레스슈즈']\n",
      "['부츠', '부츠', '부츠', '부츠', '부츠', '부츠', '부츠', '부츠', '부츠', '부츠']\n"
     ]
    }
   ],
   "source": [
    "# 학습데이터로 상풍명, 브랜드, 제조사, 카테고리 데이터 사용\n",
    "# f1: 상품명 -> 카테고리\n",
    "# f2: 브랜드 -> 카테고리\n",
    "# f3: 제조사 -> 카테고리\n",
    "# 3가지 머신을 naive bayes로 학습하며 예측은 세 머신에서 결과로 나오는 각 확률 값을 모두 곱하여 가장 큰 확률 값으로 분류함\n",
    "train_name_data = train_df['name'].tolist()\n",
    "train_brand_data = train_df['brand'].tolist()\n",
    "train_manu_data = train_df['manufacturer'].tolist()\n",
    "train_target_data = train_df['category'].tolist()\n",
    "print(train_name_data[:10])\n",
    "print(train_brand_data[:10])\n",
    "print(train_name_data[:10])\n",
    "print(train_target_data[:10])"
   ]
  },
  {
   "cell_type": "code",
   "execution_count": 9,
   "metadata": {},
   "outputs": [
    {
     "name": "stdout",
     "output_type": "stream",
     "text": [
      "(54964, 49385)\n",
      "  (0, 25020)\t1\n",
      "  (0, 14668)\t1\n",
      "  (0, 19995)\t1\n",
      "  (0, 19559)\t1\n",
      "  (0, 10604)\t1\n",
      "  (0, 48775)\t1\n"
     ]
    }
   ],
   "source": [
    "from sklearn.feature_extraction.text import CountVectorizer\n",
    "count_vect = CountVectorizer()\n",
    "X_train_counts = count_vect.fit_transform(train_name_data)\n",
    "print(X_train_counts.shape)\n",
    "print(X_train_counts[0])"
   ]
  },
  {
   "cell_type": "code",
   "execution_count": 11,
   "metadata": {},
   "outputs": [
    {
     "name": "stdout",
     "output_type": "stream",
     "text": [
      "  (0, 25020)\t1\n",
      "  (0, 14668)\t1\n",
      "  (0, 19995)\t1\n",
      "  (0, 19559)\t1\n",
      "  (0, 10604)\t1\n",
      "  (0, 48775)\t1\n",
      "-----------------------------------\n",
      "  (0, 48775)\t0.343259304029\n",
      "  (0, 10604)\t0.52330385116\n",
      "  (0, 19559)\t0.415923143023\n",
      "  (0, 19995)\t0.191318463928\n",
      "  (0, 14668)\t0.453161428867\n",
      "  (0, 25020)\t0.439745418856\n"
     ]
    }
   ],
   "source": [
    "from sklearn.feature_extraction.text import TfidfTransformer\n",
    "\n",
    "# tf_transformer = TfidfTransformer(use_idf=False).fit(X_train_counts)\n",
    "# X_train_tf = tf_transformer.transform(X_train_counts)\n",
    "\n",
    "tfidf_transformer = TfidfTransformer()\n",
    "X_train_tfidf = tfidf_transformer.fit_transform(X_train_counts)\n",
    "\n",
    "print(X_train_counts[0])\n",
    "print('-' * 35)\n",
    "print(X_train_tfidf[0])"
   ]
  },
  {
   "cell_type": "code",
   "execution_count": 26,
   "metadata": {},
   "outputs": [],
   "source": [
    "# 학습 !\n",
    "from sklearn.naive_bayes import MultinomialNB\n",
    "from sklearn.pipeline import Pipeline\n",
    "name_clf = Pipeline([('vect', CountVectorizer(ngram_range=(1, 10))),\n",
    "                     ('tfidf', TfidfTransformer(use_idf=False)),\n",
    "                     ('clf', MultinomialNB(alpha=1e-2))])\n",
    "\n",
    "brand_clf = Pipeline([('vect', CountVectorizer(ngram_range=(1, 10))),\n",
    "                     ('tfidf', TfidfTransformer(use_idf=False)),\n",
    "                     ('clf', MultinomialNB(alpha=1e-2))])\n",
    "\n",
    "manu_clf = Pipeline([('vect', CountVectorizer(ngram_range=(1, 10))),\n",
    "                     ('tfidf', TfidfTransformer(use_idf=False)),\n",
    "                     ('clf', MultinomialNB(alpha=1e-2))])\n",
    "\n",
    "name_clf = name_clf.fit(train_name_data, train_target_data)\n",
    "brand_clf = brand_clf.fit(train_brand_data, train_target_data)\n",
    "manu_clf = manu_clf.fit(train_manu_data, train_target_data)"
   ]
  },
  {
   "cell_type": "code",
   "execution_count": 27,
   "metadata": {},
   "outputs": [
    {
     "name": "stdout",
     "output_type": "stream",
     "text": [
      "['Church  CHURCH   S BLETSOE R BLETSOE R BK (BLACK', 'Thorogood Mens 6 Safety Moc Toe Tobacco Boot', '[[금강]랜드로바][금강]랜드로바 버팔로 남성 플렉시블 보트 처커MBB0809GR17/FO57 (영등포점B)', '@MustHaveitem@ [리비티  KA3908]에어캡 NonSlip W 45도 남녀공용 경량 워킹슈즈 트레킹화 방한화 부츠 털단화 스니커즈', '369몰 U7 남성 운동화 단화 슬립온 구두 가을 로퍼 멋쟁이', '[신세계백화점]탠디  (신세계센텀점)탠디 남성 하이탑 51762 G-176 진밤고트버니쉬풀업 3CM', '후쿠야마 고무 패션 레인 프린트 부츠 마일로즈20 블랙 L (2015-04-15)', '지벡 XEBEC 장화 85706 10 네이비 4L(관/부가세 미포함)#TJP387', '[닥터마틴 18% 제휴할인] 플로라 첼시 부츠 (FLORA CHELSEA BOOT - BLACK) [DM14649001] DM', 'Clarks Desert Boot#TT387']\n",
      "['부츠', '부츠', '부츠', '부츠', '부츠', '부츠', '부츠', '부츠', '부츠', '부츠']\n"
     ]
    }
   ],
   "source": [
    "test_data = test_df['name'].tolist()\n",
    "test_target_data = test_df['category'].tolist()\n",
    "print(test_data[:10])\n",
    "print(test_target_data[:10])"
   ]
  },
  {
   "cell_type": "code",
   "execution_count": 45,
   "metadata": {},
   "outputs": [
    {
     "name": "stdout",
     "output_type": "stream",
     "text": [
      "0.852658968938\n",
      "0.327207676045\n",
      "0.280045535859\n"
     ]
    }
   ],
   "source": [
    "predicted_by_name = name_clf.predict(test_data)\n",
    "print(np.mean(predicted_by_name == test_target_data))\n",
    "\n",
    "predicted_by_brand = brand_clf.predict(test_data)\n",
    "print(np.mean(predicted_by_brand == test_target_data))\n",
    "\n",
    "predicted_by_manu = manu_clf.predict(test_data)\n",
    "print(np.mean(predicted_by_manu == test_target_data))"
   ]
  },
  {
   "cell_type": "code",
   "execution_count": 92,
   "metadata": {},
   "outputs": [
    {
     "name": "stdout",
     "output_type": "stream",
     "text": [
      "['기능화' '모카신/털신' '보트슈즈' '부츠' '샌들' '스니커즈' '슬리퍼' '슬립온' '실내화' '운동화' '워커' '웰트화'\n",
      " '정장구두']\n",
      "['기능화' '모카신/털신' '보트슈즈' '부츠' '샌들' '스니커즈' '슬리퍼' '슬립온' '실내화' '운동화' '워커' '웰트화'\n",
      " '정장구두']\n",
      "['기능화' '모카신/털신' '보트슈즈' '부츠' '샌들' '스니커즈' '슬리퍼' '슬립온' '실내화' '운동화' '워커' '웰트화'\n",
      " '정장구두']\n"
     ]
    }
   ],
   "source": [
    "# 예측!\n",
    "print(name_clf.classes_)\n",
    "print(brand_clf.classes_)\n",
    "print(manu_clf.classes_)\n",
    "results_p = np.multiply(np.multiply(name_clf.predict_proba(test_data), brand_clf.predict_proba(test_data)), manu_clf.predict_proba(test_data))"
   ]
  },
  {
   "cell_type": "code",
   "execution_count": 93,
   "metadata": {},
   "outputs": [],
   "source": [
    "import operator\n",
    "results_cls = []\n",
    "for result_p in results_p:\n",
    "    index, value = max(enumerate(result_p), key=operator.itemgetter(1))\n",
    "    result_cls = name_clf.classes_[index]\n",
    "    results_cls.append(result_cls)"
   ]
  },
  {
   "cell_type": "code",
   "execution_count": 94,
   "metadata": {},
   "outputs": [
    {
     "name": "stdout",
     "output_type": "stream",
     "text": [
      "6149\n",
      "6149\n",
      "[ True  True False ...,  True  True  True]\n",
      "0.830704179541\n"
     ]
    }
   ],
   "source": [
    "# 평가!\n",
    "print(len(results_cls))\n",
    "print(len(test_target_data))\n",
    "print(np.array(results_cls) == test_target_data)\n",
    "print(np.mean(np.array(results_cls) == test_target_data))"
   ]
  },
  {
   "cell_type": "code",
   "execution_count": 103,
   "metadata": {},
   "outputs": [
    {
     "name": "stdout",
     "output_type": "stream",
     "text": [
      "             precision    recall  f1-score   support\n",
      "\n",
      "        웰트화       0.97      0.95      0.96       496\n",
      "       보트슈즈       0.81      0.90      0.85       360\n",
      "     모카신/털신       0.78      0.80      0.79       490\n",
      "         샌들       0.87      0.82      0.85       559\n",
      "        기능화       0.87      0.87      0.87       469\n",
      "         부츠       0.87      0.82      0.85       503\n",
      "         워커       0.89      0.86      0.88       496\n",
      "       스니커즈       0.83      0.80      0.82       510\n",
      "        운동화       0.93      0.93      0.93       414\n",
      "       정장구두       0.85      0.86      0.86       513\n",
      "        실내화       0.79      0.83      0.81       461\n",
      "        슬리퍼       0.85      0.85      0.85       375\n",
      "        슬립온       0.78      0.83      0.80       503\n",
      "\n",
      "avg / total       0.85      0.85      0.85      6149\n",
      "\n",
      "[[469   0   3   2   1   1   4   1   2   1   3   2   7]\n",
      " [  0 323  13   6   0   0   1   5   3   1   2   2   4]\n",
      " [  0  31 391   7   0   2   3  16   0   0   9   3  28]\n",
      " [  6   7  13 460   4   1   0   3   1   3  43   9   9]\n",
      " [  0   3   4   0 406   1  26   4   4  10   1   2   8]\n",
      " [  0   1   5   0   3 413   6  21   0  45   1   2   6]\n",
      " [  2   3   1   2  33   1 429   2  14   2   2   2   3]\n",
      " [  1  11  29   1   1  11   3 408   3  11   3   2  26]\n",
      " [  1  13   1   1   2   1   6   1 387   0   1   0   0]\n",
      " [  1   0   1   1  12  37   2  14   1 442   1   1   0]\n",
      " [  0   0   3  33   0   1   0   1   0   0 382  22  19]\n",
      " [  0   2  10  10   0   2   0   1   2   0  22 318   8]\n",
      " [  2   6  29   3   5   2   2  12   1   2  15   9 415]]\n"
     ]
    }
   ],
   "source": [
    "from sklearn import metrics\n",
    "print(metrics.classification_report(test_target_data, predicted, target_names=list(set(test_target_data))))\n",
    "print(metrics.confusion_matrix(test_target_data, predicted))"
   ]
  },
  {
   "cell_type": "code",
   "execution_count": 60,
   "metadata": {},
   "outputs": [
    {
     "name": "stdout",
     "output_type": "stream",
     "text": [
      "0.817611075338\n"
     ]
    }
   ],
   "source": [
    "# SVM으로 학습\n",
    "from sklearn.linear_model import SGDClassifier\n",
    "svm_clf = Pipeline([('vect', CountVectorizer(ngram_range=(1, 5))),\n",
    "                     ('tfidf', TfidfTransformer()),\n",
    "                     ('clf', SGDClassifier(loss='hinge', penalty='l2', alpha=1e-3, n_iter=6, random_state=42))])\n",
    "svm_clf = svm_clf.fit(train_data, train_target_data)\n",
    "\n",
    "svm_predicted = svm_clf.predict(test_data)\n",
    "print(np.mean(svm_predicted == test_target_data))"
   ]
  },
  {
   "cell_type": "code",
   "execution_count": 95,
   "metadata": {},
   "outputs": [
    {
     "name": "stdout",
     "output_type": "stream",
     "text": [
      "train data length: 1113\n"
     ]
    }
   ],
   "source": [
    "# 새로운 테스트 데이터\n",
    "test_df2 = pd.read_csv('shopping-ca-cls.data.test.tsv', sep='\\t', names=['seq', 'category', 'brand', 'manufacturer', 'price', 'product_url', 'name'])\n",
    "print(f'train data length: {len(test_df2)}')"
   ]
  },
  {
   "cell_type": "code",
   "execution_count": 96,
   "metadata": {},
   "outputs": [
    {
     "name": "stdout",
     "output_type": "stream",
     "text": [
      "['SHOES > 유러피언 버클롱부츠', '[레저포유] 마틴화/웰트화 No2051-국산수제 블랙 테러화 (반목 긴목) 4종! 천연소가죽 검정테러화 정글화 기동화 테러화 작전화 구조화 전투화 군화 경비화 부츠 워커 전술화', '[해외]팀버랜드 남성 척카 부츠 23061', '[3일배송] 울버린 1000마일 W00137 Wolverine 1000 Mile Boot CORDOVAN NO.8', '[ 추가 1~3%할인] 쏘렐 남성 부츠 카리부/Sorel Caribou II Boot', '◈JCORPS/제이콥스◈ 겨울컬렉션 버렌퍼미드탑  남성로퍼/스니커즈/워커/부츠/남성구두 온라인판매중!', '브랜드없음 스파이더 택티컬 전술부츠 [Asiaon] Spider Tactical Boots - 아시아온 스파이더 택티컬 전술', 'Funtasma by Pleaser Mens Bloody-06/W Slip-On', '톰브라운 부츠[st 레플리카] 웡팁워커', '[BOYLONDON]보이런던 가을겨울신상 토마미드탑 기모 스웨이드 스니커즈 캐주얼 단화 구두 온라인판매중']\n",
      "['부츠', '부츠', '부츠', '부츠', '부츠', '부츠', '부츠', '부츠', '부츠', '부츠']\n"
     ]
    }
   ],
   "source": [
    "test_data2 = test_df2['name'].tolist()\n",
    "test_target_data2 = test_df2['category'].tolist()\n",
    "print(test_data2[:10])\n",
    "print(test_target_data2[:10])"
   ]
  },
  {
   "cell_type": "code",
   "execution_count": 104,
   "metadata": {},
   "outputs": [
    {
     "name": "stdout",
     "output_type": "stream",
     "text": [
      "0.595687331536\n"
     ]
    }
   ],
   "source": [
    "# 평가!!\n",
    "results_p2 = np.multiply(np.multiply(name_clf.predict_proba(test_data2), brand_clf.predict_proba(test_data2)), manu_clf.predict_proba(test_data2))\n",
    "import operator\n",
    "results_cls2 = []\n",
    "for result_p in results_p2:\n",
    "    index, value = max(enumerate(result_p), key=operator.itemgetter(1))\n",
    "    results_cls2.append(name_clf.classes_[index])\n",
    "print(np.mean(np.array(results_cls2) == test_target_data2))"
   ]
  },
  {
   "cell_type": "code",
   "execution_count": 105,
   "metadata": {},
   "outputs": [
    {
     "name": "stdout",
     "output_type": "stream",
     "text": [
      "0.617250673854\n"
     ]
    }
   ],
   "source": [
    "# 평가!!\n",
    "predicted2 = name_clf.predict(test_data2)\n",
    "print(np.mean(predicted2 == test_target_data2))"
   ]
  },
  {
   "cell_type": "code",
   "execution_count": 106,
   "metadata": {},
   "outputs": [
    {
     "name": "stderr",
     "output_type": "stream",
     "text": [
      "/Users/LCH/.pyenv/versions/shopping_category_classification/lib/python3.6/site-packages/sklearn/cross_validation.py:44: DeprecationWarning: This module was deprecated in version 0.18 in favor of the model_selection module into which all the refactored classes and functions are moved. Also note that the interface of the new CV iterators are different from that of this module. This module will be removed in 0.20.\n",
      "  \"This module will be removed in 0.20.\", DeprecationWarning)\n",
      "/Users/LCH/.pyenv/versions/shopping_category_classification/lib/python3.6/site-packages/sklearn/grid_search.py:43: DeprecationWarning: This module was deprecated in version 0.18 in favor of the model_selection module into which all the refactored classes and functions are moved. This module will be removed in 0.20.\n",
      "  DeprecationWarning)\n"
     ]
    }
   ],
   "source": [
    "# 최적의 파라미터 찾기\n",
    "from sklearn.grid_search import GridSearchCV\n",
    "\n",
    "parameters = {'vect__ngram_range': [(1,i) for i in range(1, 10)],\n",
    "              'tfidf__use_idf': (False, True),\n",
    "              'clf__alpha': (1e-2, 1e-3, 1e-4)}"
   ]
  },
  {
   "cell_type": "code",
   "execution_count": 91,
   "metadata": {
    "collapsed": true
   },
   "outputs": [],
   "source": [
    "gs_clf = GridSearchCV(text_clf, parameters, n_jobs=-1)\n",
    "gs_clf = gs_clf.fit(train_data, train_target_data)"
   ]
  },
  {
   "cell_type": "code",
   "execution_count": 92,
   "metadata": {},
   "outputs": [
    {
     "name": "stdout",
     "output_type": "stream",
     "text": [
      "clf__alpha: 0.01\n",
      "tfidf__use_idf: False\n",
      "vect__ngram_range: (1, 9)\n",
      "0.8332999398918053\n"
     ]
    }
   ],
   "source": [
    "best_parameters, score, _ = max(gs_clf.grid_scores_, key=lambda x: x[1])\n",
    "for param_name in sorted(parameters.keys()):\n",
    "    print(\"%s: %r\" % (param_name, best_parameters[param_name]))\n",
    "\n",
    "print(score)"
   ]
  }
 ],
 "metadata": {
  "kernelspec": {
   "display_name": "Python 3",
   "language": "python",
   "name": "python3"
  },
  "language_info": {
   "codemirror_mode": {
    "name": "ipython",
    "version": 3.0
   },
   "file_extension": ".py",
   "mimetype": "text/x-python",
   "name": "python",
   "nbconvert_exporter": "python",
   "pygments_lexer": "ipython3",
   "version": "3.6.0"
  }
 },
 "nbformat": 4,
 "nbformat_minor": 0
}